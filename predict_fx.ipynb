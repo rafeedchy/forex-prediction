{
  "nbformat": 4,
  "nbformat_minor": 0,
  "metadata": {
    "colab": {
      "name": "predict_fx.ipynb",
      "provenance": []
    },
    "kernelspec": {
      "name": "python3",
      "display_name": "Python 3"
    }
  },
  "cells": [
    {
      "cell_type": "code",
      "metadata": {
        "id": "S2QlcF_z41xs",
        "colab": {
          "base_uri": "https://localhost:8080/",
          "height": 87
        },
        "outputId": "a1bd75b3-1e35-490a-c975-fc4517af8b0d"
      },
      "source": [
        "import math\n",
        "import pandas_datareader as web\n",
        "import numpy as np\n",
        "import pandas as pd\n",
        "from sklearn.preprocessing import MinMaxScaler\n",
        "from keras.models import Sequential\n",
        "from keras.layers import Dense, LSTM\n",
        "import matplotlib.pyplot as plt\n",
        "plt.style.use('fivethirtyeight')"
      ],
      "execution_count": null,
      "outputs": [
        {
          "output_type": "stream",
          "text": [
            "/usr/local/lib/python3.6/dist-packages/pandas_datareader/compat/__init__.py:7: FutureWarning: pandas.util.testing is deprecated. Use the functions in the public API at pandas.testing instead.\n",
            "  from pandas.util.testing import assert_frame_equal\n",
            "Using TensorFlow backend.\n"
          ],
          "name": "stderr"
        }
      ]
    },
    {
      "cell_type": "code",
      "metadata": {
        "id": "gVRzrOjSkbCZ"
      },
      "source": [
        "tick = 90"
      ],
      "execution_count": null,
      "outputs": []
    },
    {
      "cell_type": "code",
      "metadata": {
        "id": "XjZKvTmV5zD0",
        "colab": {
          "base_uri": "https://localhost:8080/",
          "height": 225
        },
        "outputId": "6e9585a7-d514-49bb-cc80-530193bad7fc"
      },
      "source": [
        "df = web.DataReader('GBPUSD=X', data_source= 'yahoo', start= '2012-01-01', end= '2020-07-08')\n",
        "df.head()"
      ],
      "execution_count": null,
      "outputs": [
        {
          "output_type": "execute_result",
          "data": {
            "text/html": [
              "<div>\n",
              "<style scoped>\n",
              "    .dataframe tbody tr th:only-of-type {\n",
              "        vertical-align: middle;\n",
              "    }\n",
              "\n",
              "    .dataframe tbody tr th {\n",
              "        vertical-align: top;\n",
              "    }\n",
              "\n",
              "    .dataframe thead th {\n",
              "        text-align: right;\n",
              "    }\n",
              "</style>\n",
              "<table border=\"1\" class=\"dataframe\">\n",
              "  <thead>\n",
              "    <tr style=\"text-align: right;\">\n",
              "      <th></th>\n",
              "      <th>High</th>\n",
              "      <th>Low</th>\n",
              "      <th>Open</th>\n",
              "      <th>Close</th>\n",
              "      <th>Volume</th>\n",
              "      <th>Adj Close</th>\n",
              "    </tr>\n",
              "    <tr>\n",
              "      <th>Date</th>\n",
              "      <th></th>\n",
              "      <th></th>\n",
              "      <th></th>\n",
              "      <th></th>\n",
              "      <th></th>\n",
              "      <th></th>\n",
              "    </tr>\n",
              "  </thead>\n",
              "  <tbody>\n",
              "    <tr>\n",
              "      <th>2012-01-02</th>\n",
              "      <td>1.554896</td>\n",
              "      <td>1.547604</td>\n",
              "      <td>1.552602</td>\n",
              "      <td>1.551205</td>\n",
              "      <td>0.0</td>\n",
              "      <td>1.551205</td>\n",
              "    </tr>\n",
              "    <tr>\n",
              "      <th>2012-01-03</th>\n",
              "      <td>1.562500</td>\n",
              "      <td>1.551109</td>\n",
              "      <td>1.552096</td>\n",
              "      <td>1.552000</td>\n",
              "      <td>0.0</td>\n",
              "      <td>1.552000</td>\n",
              "    </tr>\n",
              "    <tr>\n",
              "      <th>2012-01-04</th>\n",
              "      <td>1.567005</td>\n",
              "      <td>1.558263</td>\n",
              "      <td>1.564700</td>\n",
              "      <td>1.564407</td>\n",
              "      <td>0.0</td>\n",
              "      <td>1.564407</td>\n",
              "    </tr>\n",
              "    <tr>\n",
              "      <th>2012-01-05</th>\n",
              "      <td>1.562695</td>\n",
              "      <td>1.546910</td>\n",
              "      <td>1.561207</td>\n",
              "      <td>1.560939</td>\n",
              "      <td>0.0</td>\n",
              "      <td>1.560939</td>\n",
              "    </tr>\n",
              "    <tr>\n",
              "      <th>2012-01-06</th>\n",
              "      <td>1.552675</td>\n",
              "      <td>1.538201</td>\n",
              "      <td>1.550195</td>\n",
              "      <td>1.550171</td>\n",
              "      <td>0.0</td>\n",
              "      <td>1.550171</td>\n",
              "    </tr>\n",
              "  </tbody>\n",
              "</table>\n",
              "</div>"
            ],
            "text/plain": [
              "                High       Low      Open     Close  Volume  Adj Close\n",
              "Date                                                                 \n",
              "2012-01-02  1.554896  1.547604  1.552602  1.551205     0.0   1.551205\n",
              "2012-01-03  1.562500  1.551109  1.552096  1.552000     0.0   1.552000\n",
              "2012-01-04  1.567005  1.558263  1.564700  1.564407     0.0   1.564407\n",
              "2012-01-05  1.562695  1.546910  1.561207  1.560939     0.0   1.560939\n",
              "2012-01-06  1.552675  1.538201  1.550195  1.550171     0.0   1.550171"
            ]
          },
          "metadata": {
            "tags": []
          },
          "execution_count": 85
        }
      ]
    },
    {
      "cell_type": "code",
      "metadata": {
        "id": "v_d3DMY__UzN",
        "colab": {
          "base_uri": "https://localhost:8080/",
          "height": 225
        },
        "outputId": "25c54639-8967-4d93-85a6-9403727ce29e"
      },
      "source": [
        "df['Change'] = 100\n",
        "df.head()"
      ],
      "execution_count": null,
      "outputs": [
        {
          "output_type": "execute_result",
          "data": {
            "text/html": [
              "<div>\n",
              "<style scoped>\n",
              "    .dataframe tbody tr th:only-of-type {\n",
              "        vertical-align: middle;\n",
              "    }\n",
              "\n",
              "    .dataframe tbody tr th {\n",
              "        vertical-align: top;\n",
              "    }\n",
              "\n",
              "    .dataframe thead th {\n",
              "        text-align: right;\n",
              "    }\n",
              "</style>\n",
              "<table border=\"1\" class=\"dataframe\">\n",
              "  <thead>\n",
              "    <tr style=\"text-align: right;\">\n",
              "      <th></th>\n",
              "      <th>High</th>\n",
              "      <th>Low</th>\n",
              "      <th>Open</th>\n",
              "      <th>Close</th>\n",
              "      <th>Volume</th>\n",
              "      <th>Adj Close</th>\n",
              "      <th>Change</th>\n",
              "    </tr>\n",
              "    <tr>\n",
              "      <th>Date</th>\n",
              "      <th></th>\n",
              "      <th></th>\n",
              "      <th></th>\n",
              "      <th></th>\n",
              "      <th></th>\n",
              "      <th></th>\n",
              "      <th></th>\n",
              "    </tr>\n",
              "  </thead>\n",
              "  <tbody>\n",
              "    <tr>\n",
              "      <th>2012-01-02</th>\n",
              "      <td>1.554896</td>\n",
              "      <td>1.547604</td>\n",
              "      <td>1.552602</td>\n",
              "      <td>1.551205</td>\n",
              "      <td>0.0</td>\n",
              "      <td>1.551205</td>\n",
              "      <td>100</td>\n",
              "    </tr>\n",
              "    <tr>\n",
              "      <th>2012-01-03</th>\n",
              "      <td>1.562500</td>\n",
              "      <td>1.551109</td>\n",
              "      <td>1.552096</td>\n",
              "      <td>1.552000</td>\n",
              "      <td>0.0</td>\n",
              "      <td>1.552000</td>\n",
              "      <td>100</td>\n",
              "    </tr>\n",
              "    <tr>\n",
              "      <th>2012-01-04</th>\n",
              "      <td>1.567005</td>\n",
              "      <td>1.558263</td>\n",
              "      <td>1.564700</td>\n",
              "      <td>1.564407</td>\n",
              "      <td>0.0</td>\n",
              "      <td>1.564407</td>\n",
              "      <td>100</td>\n",
              "    </tr>\n",
              "    <tr>\n",
              "      <th>2012-01-05</th>\n",
              "      <td>1.562695</td>\n",
              "      <td>1.546910</td>\n",
              "      <td>1.561207</td>\n",
              "      <td>1.560939</td>\n",
              "      <td>0.0</td>\n",
              "      <td>1.560939</td>\n",
              "      <td>100</td>\n",
              "    </tr>\n",
              "    <tr>\n",
              "      <th>2012-01-06</th>\n",
              "      <td>1.552675</td>\n",
              "      <td>1.538201</td>\n",
              "      <td>1.550195</td>\n",
              "      <td>1.550171</td>\n",
              "      <td>0.0</td>\n",
              "      <td>1.550171</td>\n",
              "      <td>100</td>\n",
              "    </tr>\n",
              "  </tbody>\n",
              "</table>\n",
              "</div>"
            ],
            "text/plain": [
              "                High       Low      Open     Close  Volume  Adj Close  Change\n",
              "Date                                                                         \n",
              "2012-01-02  1.554896  1.547604  1.552602  1.551205     0.0   1.551205     100\n",
              "2012-01-03  1.562500  1.551109  1.552096  1.552000     0.0   1.552000     100\n",
              "2012-01-04  1.567005  1.558263  1.564700  1.564407     0.0   1.564407     100\n",
              "2012-01-05  1.562695  1.546910  1.561207  1.560939     0.0   1.560939     100\n",
              "2012-01-06  1.552675  1.538201  1.550195  1.550171     0.0   1.550171     100"
            ]
          },
          "metadata": {
            "tags": []
          },
          "execution_count": 86
        }
      ]
    },
    {
      "cell_type": "code",
      "metadata": {
        "id": "TAdDCCf-9uPE"
      },
      "source": [
        "\n",
        "for i in range(1, df.shape[0]):\n",
        "  if df['Close'][i] < df['Close'][i-1]:\n",
        "    res = df['Close'][i] - df['Close'][i-1]\n",
        "    df['Change'][i]= res\n",
        "    print('One: ' , res)\n",
        "  \n",
        "  elif df['Close'][i] > df['Close'][i-1]:\n",
        "    res2 = df['Close'][i] - df['Close'][i-1]\n",
        "    df['Change'][i] = res2\n",
        "    print('two: ' , res2)"
      ],
      "execution_count": null,
      "outputs": []
    },
    {
      "cell_type": "code",
      "metadata": {
        "id": "OZIVSKhw6XDg",
        "colab": {
          "base_uri": "https://localhost:8080/",
          "height": 521
        },
        "outputId": "5974254f-daa5-4e37-80e2-666dcd2bf964"
      },
      "source": [
        "df.head(15)"
      ],
      "execution_count": null,
      "outputs": [
        {
          "output_type": "execute_result",
          "data": {
            "text/html": [
              "<div>\n",
              "<style scoped>\n",
              "    .dataframe tbody tr th:only-of-type {\n",
              "        vertical-align: middle;\n",
              "    }\n",
              "\n",
              "    .dataframe tbody tr th {\n",
              "        vertical-align: top;\n",
              "    }\n",
              "\n",
              "    .dataframe thead th {\n",
              "        text-align: right;\n",
              "    }\n",
              "</style>\n",
              "<table border=\"1\" class=\"dataframe\">\n",
              "  <thead>\n",
              "    <tr style=\"text-align: right;\">\n",
              "      <th></th>\n",
              "      <th>High</th>\n",
              "      <th>Low</th>\n",
              "      <th>Open</th>\n",
              "      <th>Close</th>\n",
              "      <th>Volume</th>\n",
              "      <th>Adj Close</th>\n",
              "      <th>Change</th>\n",
              "    </tr>\n",
              "    <tr>\n",
              "      <th>Date</th>\n",
              "      <th></th>\n",
              "      <th></th>\n",
              "      <th></th>\n",
              "      <th></th>\n",
              "      <th></th>\n",
              "      <th></th>\n",
              "      <th></th>\n",
              "    </tr>\n",
              "  </thead>\n",
              "  <tbody>\n",
              "    <tr>\n",
              "      <th>2012-01-02</th>\n",
              "      <td>1.554896</td>\n",
              "      <td>1.547604</td>\n",
              "      <td>1.552602</td>\n",
              "      <td>1.551205</td>\n",
              "      <td>0.0</td>\n",
              "      <td>1.551205</td>\n",
              "      <td>100</td>\n",
              "    </tr>\n",
              "    <tr>\n",
              "      <th>2012-01-03</th>\n",
              "      <td>1.562500</td>\n",
              "      <td>1.551109</td>\n",
              "      <td>1.552096</td>\n",
              "      <td>1.552000</td>\n",
              "      <td>0.0</td>\n",
              "      <td>1.552000</td>\n",
              "      <td>0</td>\n",
              "    </tr>\n",
              "    <tr>\n",
              "      <th>2012-01-04</th>\n",
              "      <td>1.567005</td>\n",
              "      <td>1.558263</td>\n",
              "      <td>1.564700</td>\n",
              "      <td>1.564407</td>\n",
              "      <td>0.0</td>\n",
              "      <td>1.564407</td>\n",
              "      <td>0</td>\n",
              "    </tr>\n",
              "    <tr>\n",
              "      <th>2012-01-05</th>\n",
              "      <td>1.562695</td>\n",
              "      <td>1.546910</td>\n",
              "      <td>1.561207</td>\n",
              "      <td>1.560939</td>\n",
              "      <td>0.0</td>\n",
              "      <td>1.560939</td>\n",
              "      <td>0</td>\n",
              "    </tr>\n",
              "    <tr>\n",
              "      <th>2012-01-06</th>\n",
              "      <td>1.552675</td>\n",
              "      <td>1.538201</td>\n",
              "      <td>1.550195</td>\n",
              "      <td>1.550171</td>\n",
              "      <td>0.0</td>\n",
              "      <td>1.550171</td>\n",
              "      <td>0</td>\n",
              "    </tr>\n",
              "    <tr>\n",
              "      <th>2012-01-09</th>\n",
              "      <td>1.547006</td>\n",
              "      <td>1.540002</td>\n",
              "      <td>1.542091</td>\n",
              "      <td>1.541949</td>\n",
              "      <td>0.0</td>\n",
              "      <td>1.541949</td>\n",
              "      <td>0</td>\n",
              "    </tr>\n",
              "    <tr>\n",
              "      <th>2012-01-10</th>\n",
              "      <td>1.550051</td>\n",
              "      <td>1.544807</td>\n",
              "      <td>1.545762</td>\n",
              "      <td>1.545906</td>\n",
              "      <td>0.0</td>\n",
              "      <td>1.545906</td>\n",
              "      <td>0</td>\n",
              "    </tr>\n",
              "    <tr>\n",
              "      <th>2012-01-11</th>\n",
              "      <td>1.548803</td>\n",
              "      <td>1.534401</td>\n",
              "      <td>1.547389</td>\n",
              "      <td>1.547461</td>\n",
              "      <td>0.0</td>\n",
              "      <td>1.547461</td>\n",
              "      <td>0</td>\n",
              "    </tr>\n",
              "    <tr>\n",
              "      <th>2012-01-12</th>\n",
              "      <td>1.536807</td>\n",
              "      <td>1.528351</td>\n",
              "      <td>1.533578</td>\n",
              "      <td>1.533601</td>\n",
              "      <td>0.0</td>\n",
              "      <td>1.533601</td>\n",
              "      <td>0</td>\n",
              "    </tr>\n",
              "    <tr>\n",
              "      <th>2012-01-13</th>\n",
              "      <td>1.539883</td>\n",
              "      <td>1.524809</td>\n",
              "      <td>1.534448</td>\n",
              "      <td>1.534213</td>\n",
              "      <td>0.0</td>\n",
              "      <td>1.534213</td>\n",
              "      <td>0</td>\n",
              "    </tr>\n",
              "    <tr>\n",
              "      <th>2012-01-16</th>\n",
              "      <td>1.533060</td>\n",
              "      <td>1.528444</td>\n",
              "      <td>1.530409</td>\n",
              "      <td>1.530011</td>\n",
              "      <td>0.0</td>\n",
              "      <td>1.530011</td>\n",
              "      <td>0</td>\n",
              "    </tr>\n",
              "    <tr>\n",
              "      <th>2012-01-17</th>\n",
              "      <td>1.540310</td>\n",
              "      <td>1.531933</td>\n",
              "      <td>1.532356</td>\n",
              "      <td>1.532497</td>\n",
              "      <td>0.0</td>\n",
              "      <td>1.532497</td>\n",
              "      <td>0</td>\n",
              "    </tr>\n",
              "    <tr>\n",
              "      <th>2012-01-18</th>\n",
              "      <td>1.543305</td>\n",
              "      <td>1.533107</td>\n",
              "      <td>1.533860</td>\n",
              "      <td>1.533860</td>\n",
              "      <td>0.0</td>\n",
              "      <td>1.533860</td>\n",
              "      <td>0</td>\n",
              "    </tr>\n",
              "    <tr>\n",
              "      <th>2012-01-19</th>\n",
              "      <td>1.548683</td>\n",
              "      <td>1.541664</td>\n",
              "      <td>1.542900</td>\n",
              "      <td>1.542996</td>\n",
              "      <td>0.0</td>\n",
              "      <td>1.542996</td>\n",
              "      <td>0</td>\n",
              "    </tr>\n",
              "    <tr>\n",
              "      <th>2012-01-20</th>\n",
              "      <td>1.553905</td>\n",
              "      <td>1.545308</td>\n",
              "      <td>1.548659</td>\n",
              "      <td>1.548827</td>\n",
              "      <td>0.0</td>\n",
              "      <td>1.548827</td>\n",
              "      <td>0</td>\n",
              "    </tr>\n",
              "  </tbody>\n",
              "</table>\n",
              "</div>"
            ],
            "text/plain": [
              "                High       Low      Open     Close  Volume  Adj Close  Change\n",
              "Date                                                                         \n",
              "2012-01-02  1.554896  1.547604  1.552602  1.551205     0.0   1.551205     100\n",
              "2012-01-03  1.562500  1.551109  1.552096  1.552000     0.0   1.552000       0\n",
              "2012-01-04  1.567005  1.558263  1.564700  1.564407     0.0   1.564407       0\n",
              "2012-01-05  1.562695  1.546910  1.561207  1.560939     0.0   1.560939       0\n",
              "2012-01-06  1.552675  1.538201  1.550195  1.550171     0.0   1.550171       0\n",
              "2012-01-09  1.547006  1.540002  1.542091  1.541949     0.0   1.541949       0\n",
              "2012-01-10  1.550051  1.544807  1.545762  1.545906     0.0   1.545906       0\n",
              "2012-01-11  1.548803  1.534401  1.547389  1.547461     0.0   1.547461       0\n",
              "2012-01-12  1.536807  1.528351  1.533578  1.533601     0.0   1.533601       0\n",
              "2012-01-13  1.539883  1.524809  1.534448  1.534213     0.0   1.534213       0\n",
              "2012-01-16  1.533060  1.528444  1.530409  1.530011     0.0   1.530011       0\n",
              "2012-01-17  1.540310  1.531933  1.532356  1.532497     0.0   1.532497       0\n",
              "2012-01-18  1.543305  1.533107  1.533860  1.533860     0.0   1.533860       0\n",
              "2012-01-19  1.548683  1.541664  1.542900  1.542996     0.0   1.542996       0\n",
              "2012-01-20  1.553905  1.545308  1.548659  1.548827     0.0   1.548827       0"
            ]
          },
          "metadata": {
            "tags": []
          },
          "execution_count": 88
        }
      ]
    },
    {
      "cell_type": "code",
      "metadata": {
        "id": "j0V1pt6L6kiy",
        "colab": {
          "base_uri": "https://localhost:8080/",
          "height": 477
        },
        "outputId": "04b15c59-f5d4-4697-8aee-6b64e6b01f47"
      },
      "source": [
        "plt.figure(figsize=(16,8))\n",
        "plt.title('Close price history')\n",
        "plt.plot(df['Close'])\n",
        "plt.xlabel('Date', fontsize=18)\n",
        "plt.ylabel('Close price USD', fontsize= 18)\n",
        "plt.show()"
      ],
      "execution_count": null,
      "outputs": [
        {
          "output_type": "display_data",
          "data": {
            "image/png": "[encoded data removed]",
            "text/plain": [
              "<Figure size 1152x576 with 1 Axes>"
            ]
          },
          "metadata": {
            "tags": [],
            "needs_background": "light"
          }
        }
      ]
    },
    {
      "cell_type": "code",
      "metadata": {
        "id": "jnpmKkvf7TXJ",
        "colab": {
          "base_uri": "https://localhost:8080/",
          "height": 134
        },
        "outputId": "cd32ec03-8d36-4fdc-a1f1-3dfe9edceda1"
      },
      "source": [
        "data = df.filter(['Close'])\n",
        "dataset = data.values\n",
        "\n",
        "training_data_len = math.ceil(len(dataset) * 1)\n",
        "\n",
        "dataset\n",
        "#training_data_len"
      ],
      "execution_count": null,
      "outputs": [
        {
          "output_type": "execute_result",
          "data": {
            "text/plain": [
              "array([[1.55120528],\n",
              "       [1.55199969],\n",
              "       [1.56440663],\n",
              "       ...,\n",
              "       [1.249547  ],\n",
              "       [1.25428021],\n",
              "       [1.26135218]])"
            ]
          },
          "metadata": {
            "tags": []
          },
          "execution_count": 93
        }
      ]
    },
    {
      "cell_type": "code",
      "metadata": {
        "id": "hXaUcO8I8B2G",
        "colab": {
          "base_uri": "https://localhost:8080/",
          "height": 134
        },
        "outputId": "b012fdce-e7c6-4917-f0ad-fd8570a2d6bb"
      },
      "source": [
        "scaler = MinMaxScaler(feature_range=(0,1))\n",
        "scaled_data = scaler.fit_transform(dataset)\n",
        "\n",
        "scaled_data"
      ],
      "execution_count": null,
      "outputs": [
        {
          "output_type": "execute_result",
          "data": {
            "text/plain": [
              "array([[0.70901907],\n",
              "       [0.71042101],\n",
              "       [0.7323162 ],\n",
              "       ...,\n",
              "       [0.17666677],\n",
              "       [0.18501971],\n",
              "       [0.19749999]])"
            ]
          },
          "metadata": {
            "tags": []
          },
          "execution_count": 94
        }
      ]
    },
    {
      "cell_type": "code",
      "metadata": {
        "id": "YtC_e0xz8hOF"
      },
      "source": [
        "#x train y train\n",
        "train_data = scaled_data[0: training_data_len , :]\n",
        "x_train = []\n",
        "y_train = []\n",
        "\n",
        "for i in range(tick, len(train_data)):\n",
        "  x_train.append(train_data[i-tick:i, 0])\n",
        "  y_train.append(train_data[i, 0])"
      ],
      "execution_count": null,
      "outputs": []
    },
    {
      "cell_type": "code",
      "metadata": {
        "id": "NQBsMe8T9K0k",
        "colab": {
          "base_uri": "https://localhost:8080/",
          "height": 34
        },
        "outputId": "31fff1c6-5836-4485-bbb9-658feed400e2"
      },
      "source": [
        "#convert np\n",
        "x_train, y_train = np.array(x_train), np.array(y_train)\n",
        "x_train.shape\n",
        "#df.shape"
      ],
      "execution_count": null,
      "outputs": [
        {
          "output_type": "execute_result",
          "data": {
            "text/plain": [
              "(2130, 90)"
            ]
          },
          "metadata": {
            "tags": []
          },
          "execution_count": 98
        }
      ]
    },
    {
      "cell_type": "code",
      "metadata": {
        "id": "7fTbi4WLVZaK",
        "colab": {
          "base_uri": "https://localhost:8080/",
          "height": 34
        },
        "outputId": "ff822ae1-f8ba-405c-b5aa-51c28e8dcc70"
      },
      "source": [
        "#reshape data\n",
        "x_train = np.reshape(x_train, (x_train.shape[0], x_train.shape[1], 1))\n",
        "x_train.shape"
      ],
      "execution_count": null,
      "outputs": [
        {
          "output_type": "execute_result",
          "data": {
            "text/plain": [
              "(2130, 90, 1)"
            ]
          },
          "metadata": {
            "tags": []
          },
          "execution_count": 99
        }
      ]
    },
    {
      "cell_type": "code",
      "metadata": {
        "id": "kAV9IQU5V7l0"
      },
      "source": [
        "#LSTM model\n",
        "model = Sequential()\n",
        "model.add(LSTM(50, return_sequences=True, input_shape = (x_train.shape[1], 1)))\n",
        "model.add(LSTM(50, return_sequences=False))\n",
        "model.add(Dense(25))\n",
        "model.add(Dense(1))\n"
      ],
      "execution_count": null,
      "outputs": []
    },
    {
      "cell_type": "code",
      "metadata": {
        "id": "vwe6YVg_XRLU"
      },
      "source": [
        "#Compile model\n",
        "model.compile(optimizer='adam', loss='mean_squared_error')"
      ],
      "execution_count": null,
      "outputs": []
    },
    {
      "cell_type": "code",
      "metadata": {
        "id": "4WNr41zGXj8y",
        "colab": {
          "base_uri": "https://localhost:8080/",
          "height": 67
        },
        "outputId": "f3278f4d-aa88-4013-bcce-a157448fba80"
      },
      "source": [
        "#train the model\n",
        "model.fit(x_train, y_train, batch_size=1, epochs=1)"
      ],
      "execution_count": null,
      "outputs": [
        {
          "output_type": "stream",
          "text": [
            "Epoch 1/1\n",
            "2130/2130 [==============================] - 118s 55ms/step - loss: 0.0019\n"
          ],
          "name": "stdout"
        },
        {
          "output_type": "execute_result",
          "data": {
            "text/plain": [
              "<keras.callbacks.callbacks.History at 0x7f18f17e2160>"
            ]
          },
          "metadata": {
            "tags": []
          },
          "execution_count": 102
        }
      ]
    },
    {
      "cell_type": "code",
      "metadata": {
        "id": "M5XU4O0KX1kv"
      },
      "source": [
        "#creating test dataset\n",
        "test_data = scaled_data[training_data_len - tick: , :]\n",
        "x_test = []\n",
        "y_test = dataset[training_data_len: , :]\n",
        "\n",
        "for i in range(tick, len(test_data)):\n",
        "  x_test.append(test_data[i-tick:i, 0])"
      ],
      "execution_count": null,
      "outputs": []
    },
    {
      "cell_type": "code",
      "metadata": {
        "id": "pOYXGVswZIGs"
      },
      "source": [
        "#convert np array test datas\n",
        "\n",
        "x_test = np.array(x_test)"
      ],
      "execution_count": null,
      "outputs": []
    },
    {
      "cell_type": "code",
      "metadata": {
        "id": "i4vC_4E7ZSUo",
        "colab": {
          "base_uri": "https://localhost:8080/",
          "height": 34
        },
        "outputId": "6bc6f45e-6845-48e0-8a2d-7acc6175315f"
      },
      "source": [
        "#reshape the data\n",
        "x_test = np.reshape(x_test, (x_test.shape[0], x_test.shape[1], 1))\n",
        "x_test.shape"
      ],
      "execution_count": null,
      "outputs": [
        {
          "output_type": "execute_result",
          "data": {
            "text/plain": [
              "(333, 90, 1)"
            ]
          },
          "metadata": {
            "tags": []
          },
          "execution_count": 77
        }
      ]
    },
    {
      "cell_type": "code",
      "metadata": {
        "id": "uRo72nIOZl2m"
      },
      "source": [
        "#getting the predictions\n",
        "predictions = model.predict(x_test)\n",
        "predictions = scaler.inverse_transform(predictions)"
      ],
      "execution_count": null,
      "outputs": []
    },
    {
      "cell_type": "code",
      "metadata": {
        "id": "W0tOWFnLaBRg",
        "colab": {
          "base_uri": "https://localhost:8080/",
          "height": 34
        },
        "outputId": "9a73fb2e-098b-48c9-fe0d-a013c6af8c93"
      },
      "source": [
        "#getting the accuracy\n",
        "\n",
        "rmse = np.sqrt( np.mean(predictions - y_test)**2)\n",
        "rmse"
      ],
      "execution_count": null,
      "outputs": [
        {
          "output_type": "execute_result",
          "data": {
            "text/plain": [
              "0.003940633109381965"
            ]
          },
          "metadata": {
            "tags": []
          },
          "execution_count": 79
        }
      ]
    },
    {
      "cell_type": "code",
      "metadata": {
        "id": "0InDMZ-Abzww",
        "colab": {
          "base_uri": "https://localhost:8080/",
          "height": 255
        },
        "outputId": "902e3a95-13c9-42f6-a492-05e54cc31afb"
      },
      "source": [
        "train = data[:training_data_len]\n",
        "valid = data[training_data_len:]\n",
        "valid['Predictions'] = predictions\n",
        "valid['Predictions'].head()\n"
      ],
      "execution_count": null,
      "outputs": [
        {
          "output_type": "stream",
          "text": [
            "/usr/local/lib/python3.6/dist-packages/ipykernel_launcher.py:3: SettingWithCopyWarning: \n",
            "A value is trying to be set on a copy of a slice from a DataFrame.\n",
            "Try using .loc[row_indexer,col_indexer] = value instead\n",
            "\n",
            "See the caveats in the documentation: https://pandas.pydata.org/pandas-docs/stable/user_guide/indexing.html#returning-a-view-versus-a-copy\n",
            "  This is separate from the ipykernel package so we can avoid doing imports until\n"
          ],
          "name": "stderr"
        },
        {
          "output_type": "execute_result",
          "data": {
            "text/plain": [
              "Date\n",
              "2019-04-01    1.307577\n",
              "2019-04-02    1.304865\n",
              "2019-04-03    1.304157\n",
              "2019-04-04    1.305400\n",
              "2019-04-07    1.305654\n",
              "Name: Predictions, dtype: float32"
            ]
          },
          "metadata": {
            "tags": []
          },
          "execution_count": 80
        }
      ]
    },
    {
      "cell_type": "code",
      "metadata": {
        "id": "YLSV5fcCaWh2",
        "colab": {
          "base_uri": "https://localhost:8080/",
          "height": 814
        },
        "outputId": "7876d30b-623d-43eb-c1c9-f9168ec54135"
      },
      "source": [
        "#plot the data\n",
        "\n",
        "\n",
        "#visualize\n",
        "plt.figure(figsize=(16,8))\n",
        "plt.title('Model')\n",
        "plt.xlabel('Date', fontsize=18)\n",
        "plt.ylabel('Close price of FX', fontsize=18)\n",
        "plt.plot(train['Close'])\n",
        "plt.plot(valid[['Close', 'Predictions']])\n",
        "plt.legend('Train', 'Val', 'Predictions', loc='best')\n",
        "plt.show()"
      ],
      "execution_count": null,
      "outputs": [
        {
          "output_type": "error",
          "ename": "TypeError",
          "evalue": "ignored",
          "traceback": [
            "\u001b[0;31m---------------------------------------------------------------------------\u001b[0m",
            "\u001b[0;31mTypeError\u001b[0m                                 Traceback (most recent call last)",
            "\u001b[0;32m<ipython-input-81-85667dafea6b>\u001b[0m in \u001b[0;36m<module>\u001b[0;34m()\u001b[0m\n\u001b[1;32m      9\u001b[0m \u001b[0mplt\u001b[0m\u001b[0;34m.\u001b[0m\u001b[0mplot\u001b[0m\u001b[0;34m(\u001b[0m\u001b[0mtrain\u001b[0m\u001b[0;34m[\u001b[0m\u001b[0;34m'Close'\u001b[0m\u001b[0;34m]\u001b[0m\u001b[0;34m)\u001b[0m\u001b[0;34m\u001b[0m\u001b[0;34m\u001b[0m\u001b[0m\n\u001b[1;32m     10\u001b[0m \u001b[0mplt\u001b[0m\u001b[0;34m.\u001b[0m\u001b[0mplot\u001b[0m\u001b[0;34m(\u001b[0m\u001b[0mvalid\u001b[0m\u001b[0;34m[\u001b[0m\u001b[0;34m[\u001b[0m\u001b[0;34m'Close'\u001b[0m\u001b[0;34m,\u001b[0m \u001b[0;34m'Predictions'\u001b[0m\u001b[0;34m]\u001b[0m\u001b[0;34m]\u001b[0m\u001b[0;34m)\u001b[0m\u001b[0;34m\u001b[0m\u001b[0;34m\u001b[0m\u001b[0m\n\u001b[0;32m---> 11\u001b[0;31m \u001b[0mplt\u001b[0m\u001b[0;34m.\u001b[0m\u001b[0mlegend\u001b[0m\u001b[0;34m(\u001b[0m\u001b[0;34m'Train'\u001b[0m\u001b[0;34m,\u001b[0m \u001b[0;34m'Val'\u001b[0m\u001b[0;34m,\u001b[0m \u001b[0;34m'Predictions'\u001b[0m\u001b[0;34m,\u001b[0m \u001b[0mloc\u001b[0m\u001b[0;34m=\u001b[0m\u001b[0;34m'best'\u001b[0m\u001b[0;34m)\u001b[0m\u001b[0;34m\u001b[0m\u001b[0;34m\u001b[0m\u001b[0m\n\u001b[0m\u001b[1;32m     12\u001b[0m \u001b[0mplt\u001b[0m\u001b[0;34m.\u001b[0m\u001b[0mshow\u001b[0m\u001b[0;34m(\u001b[0m\u001b[0;34m)\u001b[0m\u001b[0;34m\u001b[0m\u001b[0;34m\u001b[0m\u001b[0m\n",
            "\u001b[0;32m/usr/local/lib/python3.6/dist-packages/matplotlib/pyplot.py\u001b[0m in \u001b[0;36mlegend\u001b[0;34m(*args, **kwargs)\u001b[0m\n\u001b[1;32m   2657\u001b[0m \u001b[0;34m@\u001b[0m\u001b[0mdocstring\u001b[0m\u001b[0;34m.\u001b[0m\u001b[0mcopy\u001b[0m\u001b[0;34m(\u001b[0m\u001b[0mAxes\u001b[0m\u001b[0;34m.\u001b[0m\u001b[0mlegend\u001b[0m\u001b[0;34m)\u001b[0m\u001b[0;34m\u001b[0m\u001b[0;34m\u001b[0m\u001b[0m\n\u001b[1;32m   2658\u001b[0m \u001b[0;32mdef\u001b[0m \u001b[0mlegend\u001b[0m\u001b[0;34m(\u001b[0m\u001b[0;34m*\u001b[0m\u001b[0margs\u001b[0m\u001b[0;34m,\u001b[0m \u001b[0;34m**\u001b[0m\u001b[0mkwargs\u001b[0m\u001b[0;34m)\u001b[0m\u001b[0;34m:\u001b[0m\u001b[0;34m\u001b[0m\u001b[0;34m\u001b[0m\u001b[0m\n\u001b[0;32m-> 2659\u001b[0;31m     \u001b[0;32mreturn\u001b[0m \u001b[0mgca\u001b[0m\u001b[0;34m(\u001b[0m\u001b[0;34m)\u001b[0m\u001b[0;34m.\u001b[0m\u001b[0mlegend\u001b[0m\u001b[0;34m(\u001b[0m\u001b[0;34m*\u001b[0m\u001b[0margs\u001b[0m\u001b[0;34m,\u001b[0m \u001b[0;34m**\u001b[0m\u001b[0mkwargs\u001b[0m\u001b[0;34m)\u001b[0m\u001b[0;34m\u001b[0m\u001b[0;34m\u001b[0m\u001b[0m\n\u001b[0m\u001b[1;32m   2660\u001b[0m \u001b[0;34m\u001b[0m\u001b[0m\n\u001b[1;32m   2661\u001b[0m \u001b[0;34m\u001b[0m\u001b[0m\n",
            "\u001b[0;32m/usr/local/lib/python3.6/dist-packages/matplotlib/axes/_axes.py\u001b[0m in \u001b[0;36mlegend\u001b[0;34m(self, *args, **kwargs)\u001b[0m\n\u001b[1;32m    398\u001b[0m                 **kwargs)\n\u001b[1;32m    399\u001b[0m         \u001b[0;32mif\u001b[0m \u001b[0mlen\u001b[0m\u001b[0;34m(\u001b[0m\u001b[0mextra_args\u001b[0m\u001b[0;34m)\u001b[0m\u001b[0;34m:\u001b[0m\u001b[0;34m\u001b[0m\u001b[0;34m\u001b[0m\u001b[0m\n\u001b[0;32m--> 400\u001b[0;31m             \u001b[0;32mraise\u001b[0m \u001b[0mTypeError\u001b[0m\u001b[0;34m(\u001b[0m\u001b[0;34m'legend only accepts two non-keyword arguments'\u001b[0m\u001b[0;34m)\u001b[0m\u001b[0;34m\u001b[0m\u001b[0;34m\u001b[0m\u001b[0m\n\u001b[0m\u001b[1;32m    401\u001b[0m         \u001b[0mself\u001b[0m\u001b[0;34m.\u001b[0m\u001b[0mlegend_\u001b[0m \u001b[0;34m=\u001b[0m \u001b[0mmlegend\u001b[0m\u001b[0;34m.\u001b[0m\u001b[0mLegend\u001b[0m\u001b[0;34m(\u001b[0m\u001b[0mself\u001b[0m\u001b[0;34m,\u001b[0m \u001b[0mhandles\u001b[0m\u001b[0;34m,\u001b[0m \u001b[0mlabels\u001b[0m\u001b[0;34m,\u001b[0m \u001b[0;34m**\u001b[0m\u001b[0mkwargs\u001b[0m\u001b[0;34m)\u001b[0m\u001b[0;34m\u001b[0m\u001b[0;34m\u001b[0m\u001b[0m\n\u001b[1;32m    402\u001b[0m         \u001b[0mself\u001b[0m\u001b[0;34m.\u001b[0m\u001b[0mlegend_\u001b[0m\u001b[0;34m.\u001b[0m\u001b[0m_remove_method\u001b[0m \u001b[0;34m=\u001b[0m \u001b[0mself\u001b[0m\u001b[0;34m.\u001b[0m\u001b[0m_remove_legend\u001b[0m\u001b[0;34m\u001b[0m\u001b[0;34m\u001b[0m\u001b[0m\n",
            "\u001b[0;31mTypeError\u001b[0m: legend only accepts two non-keyword arguments"
          ]
        },
        {
          "output_type": "display_data",
          "data": {
            "image/png": "[encoded data removed]",
            "text/plain": [
              "<Figure size 1152x576 with 1 Axes>"
            ]
          },
          "metadata": {
            "tags": [],
            "needs_background": "light"
          }
        }
      ]
    },
    {
      "cell_type": "code",
      "metadata": {
        "id": "q5G1QdS5cg9u",
        "colab": {
          "base_uri": "https://localhost:8080/",
          "height": 373
        },
        "outputId": "8f79cf51-51f8-4ba7-a7e2-72dbc8722193"
      },
      "source": [
        "\n",
        "valid.tail(10)\n"
      ],
      "execution_count": null,
      "outputs": [
        {
          "output_type": "execute_result",
          "data": {
            "text/html": [
              "<div>\n",
              "<style scoped>\n",
              "    .dataframe tbody tr th:only-of-type {\n",
              "        vertical-align: middle;\n",
              "    }\n",
              "\n",
              "    .dataframe tbody tr th {\n",
              "        vertical-align: top;\n",
              "    }\n",
              "\n",
              "    .dataframe thead th {\n",
              "        text-align: right;\n",
              "    }\n",
              "</style>\n",
              "<table border=\"1\" class=\"dataframe\">\n",
              "  <thead>\n",
              "    <tr style=\"text-align: right;\">\n",
              "      <th></th>\n",
              "      <th>Close</th>\n",
              "      <th>Predictions</th>\n",
              "    </tr>\n",
              "    <tr>\n",
              "      <th>Date</th>\n",
              "      <th></th>\n",
              "      <th></th>\n",
              "    </tr>\n",
              "  </thead>\n",
              "  <tbody>\n",
              "    <tr>\n",
              "      <th>2020-06-28</th>\n",
              "      <td>1.234217</td>\n",
              "      <td>1.239814</td>\n",
              "    </tr>\n",
              "    <tr>\n",
              "      <th>2020-06-29</th>\n",
              "      <td>1.231057</td>\n",
              "      <td>1.237850</td>\n",
              "    </tr>\n",
              "    <tr>\n",
              "      <th>2020-06-30</th>\n",
              "      <td>1.238927</td>\n",
              "      <td>1.235171</td>\n",
              "    </tr>\n",
              "    <tr>\n",
              "      <th>2020-07-01</th>\n",
              "      <td>1.246479</td>\n",
              "      <td>1.233904</td>\n",
              "    </tr>\n",
              "    <tr>\n",
              "      <th>2020-07-02</th>\n",
              "      <td>1.246640</td>\n",
              "      <td>1.234792</td>\n",
              "    </tr>\n",
              "    <tr>\n",
              "      <th>2020-07-05</th>\n",
              "      <td>1.247552</td>\n",
              "      <td>1.236621</td>\n",
              "    </tr>\n",
              "    <tr>\n",
              "      <th>2020-07-06</th>\n",
              "      <td>1.249547</td>\n",
              "      <td>1.238750</td>\n",
              "    </tr>\n",
              "    <tr>\n",
              "      <th>2020-07-07</th>\n",
              "      <td>1.254280</td>\n",
              "      <td>1.240981</td>\n",
              "    </tr>\n",
              "    <tr>\n",
              "      <th>2020-07-08</th>\n",
              "      <td>1.261352</td>\n",
              "      <td>1.243642</td>\n",
              "    </tr>\n",
              "    <tr>\n",
              "      <th>2020-07-09</th>\n",
              "      <td>1.260509</td>\n",
              "      <td>1.247203</td>\n",
              "    </tr>\n",
              "  </tbody>\n",
              "</table>\n",
              "</div>"
            ],
            "text/plain": [
              "               Close  Predictions\n",
              "Date                             \n",
              "2020-06-28  1.234217     1.239814\n",
              "2020-06-29  1.231057     1.237850\n",
              "2020-06-30  1.238927     1.235171\n",
              "2020-07-01  1.246479     1.233904\n",
              "2020-07-02  1.246640     1.234792\n",
              "2020-07-05  1.247552     1.236621\n",
              "2020-07-06  1.249547     1.238750\n",
              "2020-07-07  1.254280     1.240981\n",
              "2020-07-08  1.261352     1.243642\n",
              "2020-07-09  1.260509     1.247203"
            ]
          },
          "metadata": {
            "tags": []
          },
          "execution_count": 82
        }
      ]
    },
    {
      "cell_type": "code",
      "metadata": {
        "id": "c2gXECuRugCh",
        "colab": {
          "base_uri": "https://localhost:8080/",
          "height": 302
        },
        "outputId": "1646dde8-acaf-4f5f-f7bf-469788da2b8e"
      },
      "source": [
        "dif = valid['Close'] - valid['Predictions']\n",
        "dif.tail(15)"
      ],
      "execution_count": null,
      "outputs": [
        {
          "output_type": "execute_result",
          "data": {
            "text/plain": [
              "Date\n",
              "2020-06-21   -0.014294\n",
              "2020-06-22    0.006143\n",
              "2020-06-23    0.010824\n",
              "2020-06-24   -0.000194\n",
              "2020-06-25    0.001925\n",
              "2020-06-28   -0.005597\n",
              "2020-06-29   -0.006793\n",
              "2020-06-30    0.003756\n",
              "2020-07-01    0.012574\n",
              "2020-07-02    0.011848\n",
              "2020-07-05    0.010931\n",
              "2020-07-06    0.010797\n",
              "2020-07-07    0.013299\n",
              "2020-07-08    0.017710\n",
              "2020-07-09    0.013306\n",
              "dtype: float64"
            ]
          },
          "metadata": {
            "tags": []
          },
          "execution_count": 83
        }
      ]
    },
    {
      "cell_type": "code",
      "metadata": {
        "id": "oYQn47UeeCfk",
        "colab": {
          "base_uri": "https://localhost:8080/",
          "height": 34
        },
        "outputId": "088d7b98-26ca-4fac-8ad6-8929d306f71b"
      },
      "source": [
        "#for last value\n",
        "\n",
        "jpy_quote = web.DataReader('GBPUSD=X', data_source= 'yahoo', start= '2012-01-01', end= '2020-07-07')\n",
        "new_df = jpy_quote.filter(['Close'])\n",
        "last_tick_days = new_df[-tick: ].values\n",
        "last_tick_days_scaled = scaler.transform(last_tick_days)\n",
        "X_test = []\n",
        "X_test.append(last_tick_days_scaled)\n",
        "X_test = np.array(X_test)\n",
        "X_test = np.reshape(X_test, (X_test.shape[0], X_test.shape[1], 1))\n",
        "pred_price = model.predict(X_test)\n",
        "pred_price = scaler.inverse_transform(pred_price)\n",
        "print(pred_price)\n"
      ],
      "execution_count": null,
      "outputs": [
        {
          "output_type": "stream",
          "text": [
            "[[1.2415727]]\n"
          ],
          "name": "stdout"
        }
      ]
    },
    {
      "cell_type": "code",
      "metadata": {
        "id": "UkGVNV-ff9zs",
        "colab": {
          "base_uri": "https://localhost:8080/",
          "height": 101
        },
        "outputId": "40e3e205-b70e-4063-a2af-6887d2156732"
      },
      "source": [
        "jpy_quote2 = web.DataReader('GBPUSD=X', data_source= 'yahoo', start= '2020-07-07', end= '2020-07-08')\n",
        "print(jpy_quote2['Close'])"
      ],
      "execution_count": null,
      "outputs": [
        {
          "output_type": "stream",
          "text": [
            "Date\n",
            "2020-07-06    1.249547\n",
            "2020-07-07    1.254280\n",
            "2020-07-08    1.261352\n",
            "Name: Close, dtype: float64\n"
          ],
          "name": "stdout"
        }
      ]
    },
    {
      "cell_type": "code",
      "metadata": {
        "id": "uoOleF7qgc-w"
      },
      "source": [
        "4"
      ],
      "execution_count": null,
      "outputs": []
    }
  ]
}